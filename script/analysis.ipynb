{
 "cells": [
  {
   "cell_type": "code",
   "execution_count": null,
   "metadata": {},
   "outputs": [],
   "source": [
    "import os\n",
    "import json\n",
    "import sys\n",
    "import glob\n",
    "import pandas as pd\n",
    "import numpy as np\n",
    "import matplotlib.pyplot as plt\n",
    "from matplotlib.ticker import MultipleLocator, FuncFormatter\n"
   ]
  },
  {
   "cell_type": "code",
   "execution_count": null,
   "metadata": {},
   "outputs": [],
   "source": [
    "#pd.set_option('display.max_columns', None)  # No limit on the number of columns\n",
    "#pd.set_option('display.width', 1000)        # Adjust the total display width\n",
    "#pd.set_option('display.max_colwidth', 150)   # Adjust the maximum column width\n",
    "\n",
    "#pd.reset_option('display.max_columns')\n",
    "\n",
    "pd.set_option('display.max_columns', None)\n",
    "pd.set_option('display.max_rows', None)\n",
    "pd.set_option('display.max_colwidth', None)\n",
    "\n",
    "#pd.reset_option('display.max_columns')\n",
    "#pd.reset_option('display.max_rows')\n",
    "#pd.reset_option('display.max_colwidth')"
   ]
  },
  {
   "cell_type": "markdown",
   "metadata": {},
   "source": [
    "# gprof"
   ]
  },
  {
   "cell_type": "code",
   "execution_count": null,
   "metadata": {},
   "outputs": [],
   "source": [
    "def parse_gprof_report(filepath):\n",
    "    with open(filepath, 'r') as file:\n",
    "        content = file.read()\n",
    "\n",
    "    # Find the table portion between the delimiters\n",
    "    start_idx = content.find('=====\\n') + 6  # Skip the first delimiter\n",
    "    end_idx = content.find('\\n=====', start_idx)\n",
    "    table_content = content[start_idx:end_idx]\n",
    "\n",
    "    # Prepare the DataFrame columns\n",
    "    columns = ['% time', 'cumulative seconds', 'self seconds', 'calls', 'self ns/call', 'total ns/call', 'name']\n",
    "    data = []\n",
    "\n",
    "    for line in table_content.split('\\n'):\n",
    "        if line.strip():  # Ensure the line is not empty\n",
    "            # Split the line into parts, handling the special case for the name column\n",
    "            parts = line.split(None, 6)  # Split on whitespace, but only for the first 6 columns\n",
    "            if len(parts) < 7:\n",
    "                # Adjust for lines with missing values, especially for functions like main()\n",
    "                parts = parts[:3] + [None, None, None] + [' '.join(parts[3:])] if len(parts) > 3 else parts + [None]*(7-len(parts))\n",
    "            data.append(parts)\n",
    "\n",
    "    cpu_freq = 4.7\n",
    "    cpu_period = 1/cpu_freq\n",
    "    # Convert list to DataFrame\n",
    "    df = pd.DataFrame(data, columns=columns)\n",
    "    # Handle data types\n",
    "    df['% time'] = pd.to_numeric(df['% time'], errors='coerce')\n",
    "    df['cumulative seconds'] = pd.to_numeric(df['cumulative seconds'], errors='coerce')\n",
    "    df['self seconds'] = pd.to_numeric(df['self seconds'], errors='coerce')\n",
    "    df['calls'] = pd.to_numeric(df['calls'], errors='coerce')\n",
    "    df['calls'] = df['calls'].astype('Int64')\n",
    "    df['self ns/call'] = pd.to_numeric(df['self ns/call'], errors='coerce')\n",
    "    df['total ns/call'] = pd.to_numeric(df['total ns/call'], errors='coerce')\n",
    "    df['self cycles/call'] = df['self ns/call'] / cpu_period\n",
    "    df['total cycles/call'] = df['total ns/call'] / cpu_period\n",
    "    # round up to the nearest integer if value is not NaN\n",
    "    df['self cycles/call'] = df['self cycles/call'].apply(lambda x: int(x) if not pd.isna(x) else x).astype('Int64')\n",
    "    df['total cycles/call'] = df['total cycles/call'].apply(lambda x: int(x) if not pd.isna(x) else x).astype('Int64')\n",
    "    # move column 'name' to the end\n",
    "    cols = list(df.columns)\n",
    "    cols.remove('name')\n",
    "    df = df[cols + ['name']]\n",
    "\n",
    "    return df"
   ]
  },
  {
   "cell_type": "code",
   "execution_count": null,
   "metadata": {},
   "outputs": [],
   "source": [
    "#filepath = 'analysis.gprof'\n",
    "#df = parse_gprof_report(filepath)\n",
    "#df = df.sort_values(by='self ns/call', ascending=False)\n",
    "#df.head(12)"
   ]
  },
  {
   "cell_type": "code",
   "execution_count": null,
   "metadata": {},
   "outputs": [],
   "source": [
    "#filepath = '/home/alek/dev/ama-riscv-sim/src/analysis_alu-hash_1_no-exec-check.gprof'\n",
    "#df = parse_gprof_report(filepath)\n",
    "#df = df.sort_values(by='self ns/call', ascending=False)\n",
    "#df.head(12)"
   ]
  },
  {
   "cell_type": "markdown",
   "metadata": {},
   "source": [
    "# JSON log profiling"
   ]
  },
  {
   "cell_type": "markdown",
   "metadata": {},
   "source": [
    "# test bit"
   ]
  },
  {
   "cell_type": "code",
   "execution_count": null,
   "metadata": {},
   "outputs": [],
   "source": [
    "t_json_log_1 = \"../src/prime_numbers_prime_numbers_inst_profiler.json\"\n",
    "t_trace_1 = \"../src/prime_numbers_prime_numbers_trace.bin\"\n",
    "t_rv_dasm_1 = \"../sw/baremetal/prime_numbers/prime_numbers.dump\"\n",
    "\n",
    "t_json_log_2 = \"../src/vector_mac_vm_uint8_inst_profiler.json\"\n",
    "t_trace_2 = \"../src/vector_mac_vm_uint8_trace.bin\"\n",
    "t_rv_dasm_2 = \"../sw/baremetal/vector_mac/vm_uint8.dump\"\n",
    "\n",
    "t_json_log_3 = \"../src/asm_test_asm_test_inst_profiler.json\"\n",
    "t_trace_3 = \"../src/asm_test_asm_test_trace.bin\"\n",
    "t_rv_dasm_3 = \"../sw/baremetal/asm_test/asm_test.dump\"\n",
    "\n",
    "t_json_log_4 = \"../src/fibonacci_n_18_inst_profiler.json\"\n",
    "t_trace_4 = \"../src/fibonacci_n_18_trace.bin\"\n",
    "#t_trace_4 = \"../src/fibonacci_n_18_trace.bin\"\n",
    "t_rv_dasm_4 = \"../sw/baremetal/fibonacci/n_18.dump\"\n",
    "\n",
    "t_json_log_5 = \"../src/factorial_n_20_inst_profiler.json\"\n",
    "t_trace_5 = \"../src/factorial_n_20_trace.bin\"\n",
    "t_rv_dasm_5 = \"../sw/baremetal/factorial/n_20.dump\"\n",
    "\n",
    "t_json_log_6 = \"../src/gcd_lcm_gcd_lcm_inst_profiler.json\"\n",
    "t_trace_6 = \"../src/gcd_lcm_gcd_lcm_trace.bin\"\n",
    "t_rv_dasm_6 = \"../sw/baremetal/gcd_lcm/gcd_lcm.dump\"\n",
    "\n",
    "nf=\"int16\"\n",
    "nf=\"float32\"\n",
    "op=\"add\"\n",
    "t_json_log_7 = f\"../src/vector_basic_{op}_{nf}_inst_profiler.json\"\n",
    "t_trace_7 = f\"../src/vector_basic_{op}_{nf}_trace.bin\"\n",
    "t_rv_dasm_7 = f\"../sw/baremetal/vector_basic/{op}_{nf}.dump\"\n",
    "\n",
    "t_json_log_8 = \"../src/uart_loopback_uart_loopback_inst_profiler.json\"\n",
    "t_trace_8 = \"../src/uart_loopback_uart_loopback_trace.bin\"\n",
    "t_rv_dasm_8 = \"../sw/baremetal/uart_loopback/uart_loopback.dump\"\n",
    "\n",
    "nf=\"uint32\"\n",
    "op=\"quick\"\n",
    "t_json_log_9 = f\"../src/sorting_{op}_{nf}_inst_profiler.json\"\n",
    "t_trace_9 = f\"../src/sorting_{op}_{nf}_trace.bin\"\n",
    "t_rv_dasm_9 = f\"../sw/baremetal/sorting/{op}_{nf}.dump\""
   ]
  },
  {
   "cell_type": "code",
   "execution_count": null,
   "metadata": {},
   "outputs": [],
   "source": [
    "hl_test = \"lw,lh,lb,lhu,lbu,sw,sh,sb bne,beq,blt,bge,bgeu,bltu jal,jalr\"\n",
    "#hl_test = \"sb bne jal,jalr\"\n",
    "hw_perf_metrics_path = \"hw_perf_metrics.json\"\n"
   ]
  },
  {
   "cell_type": "code",
   "execution_count": null,
   "metadata": {},
   "outputs": [],
   "source": [
    "#%run analyze_profiling_log.py -i {t_json_log_4} --highlight {hl_test}\n",
    "%run analyze_profiling_log.py -t {t_trace_9} \\\n",
    "                           --dasm {t_rv_dasm_9} --highlight {hl_test} --pc_time_series_limit 60000 --save_csv\n",
    "#                           --silent --symbols_only --save_symbols\n",
    "#                           --pc_begin 0x80000094 --pc_end 0x800000ec\n",
    "#                           --dasm {t_rv_dasm_2} --pc_time_series_limit 60000\n",
    "#                           --dasm {t_rv_dasm_2} --highlight {hl_test}  --symbols_only\n",
    "\n",
    "#%run analyze_profiling_log.py -i {t_json_log_2} --highlight {hl_test} --estimate_perf\n",
    "#%run analyze_profiling_log.py -i {t_json_log_1} --highlight {hl_test}\n",
    "#%run analyze_profiling_log.py -i {t_json_log_1} --highlight \"addi add\" --estimate_perf\n",
    "#%run analyze_profiling_log.py -i {t_json_log_1} --highlight \"bne,beq,blt,bge,bgeu jal\" --estimate_perf\n",
    "#%run analyze_profiling_log.py --inst_dir ../test/temp_prof/ --highlight {hl_test} --estimate_perf\n",
    "\n",
    "#%run analyze_profiling_log.py -p {t_trace_2} --dasm {t_rv_dasm_2} --pc_time_series_limit 171000\n",
    "#%run analyze_profiling_log.py -p {t_trace_2}\n",
    "\n",
    "#%run analyze_profiling_log.py -p {t_trace_2} --dasm {t_rv_dasm_2}\n",
    "#%run analyze_profiling_log.py -p {t_trace_2} --highlight {hl_test}\n",
    "#%run analyze_profiling_log.py -p {t_trace_2} --dasm {t_rv_dasm_2} --highlight \"bne,beq,blt,bge,bgeu,bltu jal,jalr\"\n",
    "\n",
    "#%run analyze_profiling_log.py -p {t_trace_2} --dasm {t_rv_dasm_2} --save_png --silent --save_pdf --save_csv --save_svg\n",
    "#%run ../script/analyze_profiling_log.py --inst_dir ../test --highlight {hl_test} --allow_zero --combined_only --estimate_perf --save_png --save_pdf --save_csv\n",
    "#%run analyze_profiling_log.py -i {t_json_log_1} {t_json_log_2} --highlight {hl_test} --estimate_perf\n",
    "\n",
    "#%run analyze_profiling_log.py -p {t_trace_1} --dasm {rt_v_dasm_1} --save_pdf --silent\n",
    "#%run analyze_profiling_log.py -p {t_trace_1} {t_trace_2}\n",
    "#%run analyze_profiling_log.py --pc_dir ../src\n"
   ]
  },
  {
   "cell_type": "code",
   "execution_count": null,
   "metadata": {},
   "outputs": [],
   "source": [
    "%run perf_est.py {t_json_log_9} {hw_perf_metrics_path}"
   ]
  },
  {
   "cell_type": "markdown",
   "metadata": {},
   "source": [
    "vector_basic_add_float32_inst_profiler.json\n",
    "Branches total: 620 out of 3641 total instructions (17.0% branches)\n",
    "    Taken: 355, Forwards: 221, Backwards: 134\n",
    "    Not taken: 265, Forwards: 143, Backwards: 122\n",
    "    Predicted: 277, Mispredicted: 343, Accuracy: 44.7%\n",
    "    Cycles: Original/With prediction: 4475/4198 (277 cycles saved)\n",
    "Potential app speedup: 6.2%\n",
    "Estimated HW performance at 125MHz with 4475 cycles executed: CPI=1.23, exec time=35.8us, MIPS=101.7\n",
    "Estimated HW performance at 125MHz with 4198 cycles executed: CPI=1.15, exec time=33.6us, MIPS=108.4"
   ]
  },
  {
   "cell_type": "markdown",
   "metadata": {},
   "source": [
    "# complete analysis"
   ]
  },
  {
   "cell_type": "code",
   "execution_count": null,
   "metadata": {},
   "outputs": [],
   "source": [
    "%run analysis_all.py sorting > sorting_analysis.log\n",
    "# produces csvs also in the ../src (or wherever the source traces are)"
   ]
  },
  {
   "cell_type": "markdown",
   "metadata": {},
   "source": [
    "## prime bool\n",
    "prime_numbers_prime_numbers_inst_profiler.json\n",
    "Branches total: 11333 out of 64608 total instructions (17.5% branches)\n",
    "    Taken: 11036, Forwards: 117, Backwards: 10919\n",
    "    Not taken: 297, Forwards: 194, Backwards: 103\n",
    "    Predicted: 11113, Mispredicted: 220, Accuracy: 98.1%\n",
    "    Cycles: Original/With prediction: 76057/64944 (11113 cycles saved)\n",
    "Potential app speedup: 14.6%\n",
    "Estimated HW performance at 125MHz with 76057 cycles executed: CPI=1.18, exec time=608.5us, MIPS=106.2\n",
    "Estimated HW performance at 125MHz with 64944 cycles executed: CPI=1.01, exec time=519.6us, MIPS=124.4"
   ]
  },
  {
   "cell_type": "markdown",
   "metadata": {},
   "source": [
    "## O0\n",
    "factorial_factorial_inst_profiler.json\n",
    "Branches total: 985 out of 5279 total instructions (18.7% branches)\n",
    "    Taken: 763, Forwards: 329, Backwards: 434\n",
    "    Not taken: 222, Forwards: 194, Backwards: 28\n",
    "    Predicted: 628, Mispredicted: 357, Accuracy: 63.8%\n",
    "    Cycles: Original/With prediction: 6369/5741 (628 cycles saved)\n",
    "Potential app speedup: 9.9%\n",
    "Estimated HW performance at 125MHz with 6369 cycles executed: CPI=1.21, exec time=51.0us, MIPS=103.6\n",
    "Estimated HW performance at 125MHz with 5741 cycles executed: CPI=1.09, exec time=45.9us, MIPS=114.9"
   ]
  },
  {
   "cell_type": "markdown",
   "metadata": {},
   "source": [
    "## 01\n",
    "factorial_factorial_inst_profiler.json\n",
    "Branches total: 983 out of 4880 total instructions (20.1% branches)\n",
    "    Taken: 762, Forwards: 329, Backwards: 433\n",
    "    Not taken: 221, Forwards: 194, Backwards: 27\n",
    "    Predicted: 627, Mispredicted: 356, Accuracy: 63.8%\n",
    "    Cycles: Original/With prediction: 5966/5339 (627 cycles saved)\n",
    "Potential app speedup: 10.5%\n",
    "Estimated HW performance at 125MHz with 5966 cycles executed: CPI=1.22, exec time=47.7us, MIPS=102.2\n",
    "Estimated HW performance at 125MHz with 5339 cycles executed: CPI=1.09, exec time=42.7us, MIPS=114.3"
   ]
  },
  {
   "cell_type": "markdown",
   "metadata": {},
   "source": [
    "## 02\n",
    "factorial_factorial_inst_profiler.json\n",
    "Branches total: 629 out of 2581 total instructions (24.4% branches)\n",
    "    Taken: 440, Forwards: 170, Backwards: 270\n",
    "    Not taken: 189, Forwards: 155, Backwards: 34\n",
    "    Predicted: 425, Mispredicted: 204, Accuracy: 67.6%\n",
    "    Cycles: Original/With prediction: 3281/2856 (425 cycles saved)\n",
    "Potential app speedup: 13.0%\n",
    "Estimated HW performance at 125MHz with 3281 cycles executed: CPI=1.27, exec time=26.2us, MIPS=98.3\n",
    "Estimated HW performance at 125MHz with 2856 cycles executed: CPI=1.11, exec time=22.8us, MIPS=113.0"
   ]
  },
  {
   "cell_type": "markdown",
   "metadata": {},
   "source": [
    "# GCD"
   ]
  },
  {
   "cell_type": "code",
   "execution_count": null,
   "metadata": {},
   "outputs": [],
   "source": [
    "17**3 * 5**2 * 17 * 5 * 3*5"
   ]
  },
  {
   "cell_type": "code",
   "execution_count": null,
   "metadata": {},
   "outputs": [],
   "source": [
    "17**3 * 2**5 * 3"
   ]
  },
  {
   "cell_type": "markdown",
   "metadata": {},
   "source": [
    "# vector basic O0 vs O2 compare"
   ]
  },
  {
   "cell_type": "code",
   "execution_count": null,
   "metadata": {},
   "outputs": [],
   "source": [
    "add_float32 = (4990 - 3641)/4990\n",
    "add_float64 = (6103 - 4822)/6103\n",
    "add_int16 = (1903 - 646)/1903\n",
    "add_int32 = (1839 - 646)/1839\n",
    "add_int64 = (2415 - 1030)/2415\n",
    "add_int8 = (1839 - 646)/1839\n",
    "add_uint16 = (1903 - 646)/1903\n",
    "add_uint32 = (1839 - 646)/1839\n",
    "add_uint64 = (2415 - 1030)/2415\n",
    "add_uint8 = (1839 - 646)/1839\n",
    "\n",
    "div_float32 = (28230 - 26881)/28230\n",
    "div_float64 = (75330 - 74049)/75330\n",
    "div_int16 = (3700 - 2348)/3700\n",
    "div_int32 = (4263 - 2943)/4263\n",
    "div_int64 = (26787 - 25403)/26787\n",
    "div_int8 = (3657 - 2369)/3657\n",
    "div_uint16 = (3747 - 2428)/3747\n",
    "div_uint32 = (4138 - 2818)/4138\n",
    "div_uint64 = (25481 - 24097)/25481\n",
    "div_uint8 = (3715 - 2460)/3715\n",
    "\n",
    "mul_float32 = (15759 - 14410)/15759\n",
    "mul_float64 = (50037 - 48756)/50037\n",
    "mul_int16 = (6186 - 4834)/6186\n",
    "mul_int32 = (6125 - 4805)/6125\n",
    "mul_int64 = (18694 - 17310)/18694\n",
    "mul_int8 = (5425 - 4137)/5425\n",
    "mul_uint16 = (4764 - 3381)/4764\n",
    "mul_uint32 = (4734 - 3414)/4734\n",
    "mul_uint64 = (12671 - 11287)/12671\n",
    "mul_uint8 = (3314 - 1995)/3314\n",
    "\n",
    "sub_float32 = (5160 - 3811)/5160\n",
    "sub_float64 = (5910 - 4629)/5910\n",
    "sub_int16 = (1903 - 646)/1903\n",
    "sub_int32 = (1839 - 646)/1839\n",
    "sub_int64 = (2415 - 1030)/2415\n",
    "sub_int8 = (1839 - 646)/1839\n",
    "sub_uint16 = (1903 - 646)/1903\n",
    "sub_uint32 = (1839 - 646)/1839\n",
    "sub_uint64 = (2415 - 1030)/2415\n",
    "sub_uint8 = (1839 - 646)/1839\n",
    "\n",
    "print(f\"add_float32 {add_float32*100:.01f}%\")\n",
    "print(f\"add_float64 {add_float64*100:.01f}%\")\n",
    "print(f\"add_int16 {add_int16*100:.01f}%\")\n",
    "print(f\"add_int32 {add_int32*100:.01f}%\")\n",
    "print(f\"add_int64 {add_int64*100:.01f}%\")\n",
    "print(f\"add_int8 {add_int8*100:.01f}%\")\n",
    "print(f\"add_uint16 {add_uint16*100:.01f}%\")\n",
    "print(f\"add_uint32 {add_uint32*100:.01f}%\")\n",
    "print(f\"add_uint64 {add_uint64*100:.01f}%\")\n",
    "print(f\"add_uint8 {add_uint8*100:.01f}%\")\n",
    "print()\n",
    "print(f\"div_float32 {div_float32*100:.01f}%\")\n",
    "print(f\"div_float64 {div_float64*100:.01f}%\")\n",
    "print(f\"div_int16 {div_int16*100:.01f}%\")\n",
    "print(f\"div_int32 {div_int32*100:.01f}%\")\n",
    "print(f\"div_int64 {div_int64*100:.01f}%\")\n",
    "print(f\"div_int8 {div_int8*100:.01f}%\")\n",
    "print(f\"div_uint16 {div_uint16*100:.01f}%\")\n",
    "print(f\"div_uint32 {div_uint32*100:.01f}%\")\n",
    "print(f\"div_uint64 {div_uint64*100:.01f}%\")\n",
    "print(f\"div_uint8 {div_uint8*100:.01f}%\")\n",
    "print()\n",
    "print(f\"mul_float32 {mul_float32*100:.01f}%\")\n",
    "print(f\"mul_float64 {mul_float64*100:.01f}%\")\n",
    "print(f\"mul_int16 {mul_int16*100:.01f}%\")\n",
    "print(f\"mul_int32 {mul_int32*100:.01f}%\")\n",
    "print(f\"mul_int64 {mul_int64*100:.01f}%\")\n",
    "print(f\"mul_int8 {mul_int8*100:.01f}%\")\n",
    "print(f\"mul_uint16 {mul_uint16*100:.01f}%\")\n",
    "print(f\"mul_uint32 {mul_uint32*100:.01f}%\")\n",
    "print(f\"mul_uint64 {mul_uint64*100:.01f}%\")\n",
    "print(f\"mul_uint8 {mul_uint8*100:.01f}%\")\n",
    "print()\n",
    "print(f\"sub_float32 {sub_float32*100:.01f}%\")\n",
    "print(f\"sub_float64 {sub_float64*100:.01f}%\")\n",
    "print(f\"sub_int16 {sub_int16*100:.01f}%\")\n",
    "print(f\"sub_int32 {sub_int32*100:.01f}%\")\n",
    "print(f\"sub_int64 {sub_int64*100:.01f}%\")\n",
    "print(f\"sub_int8 {sub_int8*100:.01f}%\")\n",
    "print(f\"sub_uint16 {sub_uint16*100:.01f}%\")\n",
    "print(f\"sub_uint32 {sub_uint32*100:.01f}%\")\n",
    "print(f\"sub_uint64 {sub_uint64*100:.01f}%\")\n",
    "print(f\"sub_uint8 {sub_uint8*100:.01f}%\")\n"
   ]
  },
  {
   "cell_type": "markdown",
   "metadata": {},
   "source": [
    "# branch acc analysis"
   ]
  },
  {
   "cell_type": "code",
   "execution_count": null,
   "metadata": {},
   "outputs": [],
   "source": [
    "perf_est_dir = \"../src\"\n",
    "perf_est_ext = \"sorting*_perf_est.csv\"\n",
    "perf_est_ext = \"vector*_perf_est.csv\"\n",
    "#perf_est_ext = \"*_perf_est.csv\"\n",
    "# glob for all perf_est_ext files in perf_est_dir\n",
    "perf_est_files = sorted(glob.glob(f'{perf_est_dir}/*{perf_est_ext}'))\n",
    "\n",
    "# create a single df from all perf_est_ext files\n",
    "df = pd.concat([pd.read_csv(f) for f in perf_est_files], ignore_index=True)\n",
    "df = df.drop(columns=[\"mispredict_penalty\", \"prediction_resolution\", \"pipeline_latency\", \"cpu_frequency_mhz\", \"cpu_period\"])\n",
    "#df['name'] = df['name'].str.replace(\"vector_basic_\", \"\").str.replace(\"_inst_profiler.json\", \"\")\n",
    "df['name'] = df['name'].str.replace(\"_inst_profiler.json\", \"\")\n",
    "display(df.head())\n",
    "\n",
    "op_order = ['add', 'sub', 'mul', 'div', 'bubble', 'insertion', 'selection', 'merge', 'quick', 'heap']\n",
    "df['op_sort'] = df['name'].str.split('_').str[-2]\n",
    "df['nf'] = df['name'].str.split('_').str[-1]\n",
    "df['op_sort'] = pd.Categorical(df['op_sort'], op_order)\n",
    "df = df.sort_values(by=['op_sort', 'nf'], ascending=[False, True])\n",
    "df = df.drop(columns=['op_sort', 'nf'])\n",
    "\n",
    "#op_order = ['bubble', 'insertion', 'selection', 'merge', 'quick', 'heap']\n",
    "#df['op_sort'] = df['name'].str.split('_').str[1]\n",
    "#df['nf'] = df['name'].str.split('_').str[2]\n",
    "#df['op_sort'] = pd.Categorical(df['op_sort'], op_order)\n",
    "#df = df.sort_values(by=['op_sort', 'nf'], ascending=[False, True])\n",
    "#df = df.drop(columns=['op_sort', 'nf'])\n",
    "\n",
    "df['non_b_inst'] = df.inst_total - df.b_inst\n",
    "\n",
    "df.head()"
   ]
  },
  {
   "cell_type": "code",
   "execution_count": null,
   "metadata": {},
   "outputs": [],
   "source": [
    "# check data types for columns\n",
    "df.dtypes"
   ]
  },
  {
   "cell_type": "code",
   "execution_count": null,
   "metadata": {},
   "outputs": [],
   "source": [
    "hcl_mac = {\n",
    "    \"add\": \"#3ECCBB\", # turquoise\n",
    "    \"sub\": \"#EED595\", # peach yellow\n",
    "    #\"mul\": \"#f4a261\", # orange\n",
    "    \"mul\": \"#979797\", # gray\n",
    "    #\"mul\": \"#3d91dc\", # blue\n",
    "    \"div\": \"#e76f51\", # red\n",
    "    \"root\": \"#9c86ae\" # purple\n",
    "}\n",
    "\n",
    "hcl_sort = {\n",
    "    \"bubble\": \"#3ECCBB\", # turquoise\n",
    "    \"insertion\": \"#EED595\", # peach yellow\n",
    "    #\"mul\": \"#f4a261\", # orange\n",
    "    \"selection\": \"#979797\", # gray\n",
    "    #\"mul\": \"#3d91dc\", # blue\n",
    "    \"merge\": \"#e76f51\", # red\n",
    "    \"quick\": \"#9c86ae\", # purple\n",
    "    \"heap\": \"#3d91dc\", # blue\n",
    "}"
   ]
  },
  {
   "cell_type": "code",
   "execution_count": null,
   "metadata": {},
   "outputs": [],
   "source": [
    "df.columns"
   ]
  },
  {
   "cell_type": "code",
   "execution_count": null,
   "metadata": {},
   "outputs": [],
   "source": [
    "# plot name vs acc\n",
    "\n",
    "#box = ax.barh(df['name'], df['acc'])\n",
    "#ax.set_xlim(0, 100)\n",
    "#ax.xaxis.set_major_locator(MultipleLocator(10))\n",
    "#ax.set_xlabel(\"Accuracy (%)\")\n",
    "#ax.bar_label(box, padding=3, fmt='%.1f')\n",
    "#ax.set_title(\"Accuracy of Instruction Prediction\")\n",
    "\n",
    "perc_metrics = ['acc', 'branches_perc', 'speedup']\n",
    "for metric in [['acc'], ['total_cycles', 'saved_cycles'], ['speedup'], ['non_b_inst', 'b_inst'], ['branches_perc'], ['original_cpi', 'new_cpi']]: # TODO: bar chart combined\n",
    "    box = []\n",
    "    factor = 2\n",
    "    offset = [0]\n",
    "    if len(metric) == 2:\n",
    "        factor = 1\n",
    "        offset = [0.25, -0.25]\n",
    "    fig, ax = plt.subplots(figsize=(12, df.index.size/(2*factor)))\n",
    "    y_axis_numeric = np.arange(df.index.size)\n",
    "    for m,o in zip(metric,offset):\n",
    "        box.append(ax.barh(y_axis_numeric-o, df[m], height=0.45*factor))\n",
    "\n",
    "\n",
    "\n",
    "    # annotate the y-aixs\n",
    "    ax.set_yticks(y_axis_numeric)\n",
    "    ax.set_yticklabels(df['name'])\n",
    "\n",
    "    label = metric[0] if len(metric) == 1 else f\"{metric[0]} vs {metric[1]}\"\n",
    "    ax.set_xlabel(label)\n",
    "    ax.set_title(label)\n",
    "    #ax.set_xscale('log')\n",
    "\n",
    "    fmt = '%.0f'\n",
    "    # set y lim to 100 for percentage metrics\n",
    "    if metric[0] in perc_metrics:\n",
    "        ax.set_xlim(0, 100)\n",
    "        ax.xaxis.set_major_locator(MultipleLocator(10))\n",
    "        ax.set_xlabel(f\"{label} (%)\")\n",
    "        fmt = lambda x: '{:.1f}%'.format(x)\n",
    "\n",
    "    if \"cpi\" in label:\n",
    "        fmt = '%.2f'\n",
    "\n",
    "    ax.set_ylabel(\"Test\")\n",
    "    ax.margins(y=0.01)\n",
    "    ax.grid(axis='x')\n",
    "    for cmp, b in enumerate(box):\n",
    "        ax.bar_label(b, padding=3, fmt=fmt)\n",
    "        for i, r in enumerate(b):\n",
    "            if (\"vector_basic\" in df.iloc[i]['name'] or \"sorting\" in df.iloc[i]['name']):\n",
    "                op = df.iloc[i]['name'].split('_')[-2]\n",
    "                nf = df.iloc[i]['name'].split('_')[-1]\n",
    "                if op in hcl_mac:\n",
    "                    r.set_color(hcl_mac[op])\n",
    "                elif op in hcl_sort:\n",
    "                    r.set_color(hcl_sort[op])\n",
    "\n",
    "                # won't actually do anything alone, but hatch will be black, if added\n",
    "                r.set_edgecolor(\"black\")\n",
    "                r.set_linewidth(0.0)\n",
    "\n",
    "                #if nf.startswith(\"int\"):\n",
    "                #    r.set_hatch(\"//\")\n",
    "                if \"float\" in nf:\n",
    "                    r.set_alpha(0.7)\n",
    "\n",
    "                if cmp == 1:\n",
    "                    r.set_hatch(\"...\")\n",
    "\n",
    "\n",
    "    plt.show()"
   ]
  },
  {
   "cell_type": "code",
   "execution_count": null,
   "metadata": {},
   "outputs": [],
   "source": [
    "# get mean values for df for all numeric columns only\n",
    "df.describe().loc['mean']"
   ]
  },
  {
   "cell_type": "code",
   "execution_count": null,
   "metadata": {},
   "outputs": [],
   "source": [
    "float_means = df[df.name.str.contains(\"float\")].describe().loc['mean']\n"
   ]
  },
  {
   "cell_type": "code",
   "execution_count": null,
   "metadata": {},
   "outputs": [],
   "source": [
    "int_means = df[df.name.str.contains(\"int\")].describe().loc['mean']"
   ]
  },
  {
   "cell_type": "code",
   "execution_count": null,
   "metadata": {},
   "outputs": [],
   "source": [
    "fig, ax = plt.subplots(figsize=(12, 10))\n",
    "bar_width = 0.35\n",
    "y_axis_numeric = np.arange(float_means.size)\n",
    "bar1 = ax.barh(y_axis_numeric+.2, float_means, bar_width, label='float')\n",
    "bar2 = ax.barh(y_axis_numeric-.2, int_means, bar_width, label='int')\n",
    "ax.set_yticks(y_axis_numeric)\n",
    "ax.set_yticklabels(float_means.index)\n",
    "ax.set_ylabel('Mean')\n",
    "# set x axis as log\n",
    "ax.set_xscale('log')\n",
    "ax.grid(axis='x', which='major')\n",
    "ax.grid(axis='x', which='minor', linewidth=0.4, alpha=0.8)\n",
    "ax.legend()\n"
   ]
  },
  {
   "cell_type": "code",
   "execution_count": null,
   "metadata": {},
   "outputs": [],
   "source": [
    "for idx, (f, i) in enumerate(zip(float_means, int_means)):\n",
    "    print(f\"{float_means.index[idx]}: {f:.2f} vs {i:.2f}\")"
   ]
  },
  {
   "cell_type": "markdown",
   "metadata": {},
   "source": [
    "# GS linear"
   ]
  },
  {
   "cell_type": "code",
   "execution_count": null,
   "metadata": {},
   "outputs": [],
   "source": [
    "#x = np.array([9, 19, 47]) + 8\n",
    "#y1 = [0.3, 0.2, 0.1]\n",
    "#y2 = [0.85, 0.9, 0.93]\n",
    "x = np.array([9, 47]) + 8\n",
    "y1 = [0.3, 0.08]\n",
    "y2 = [0.85, 0.94]\n",
    "\n",
    "fig, ax = plt.subplots(1,2, figsize=(7,3))\n",
    "ax[0].plot(x, y1, label='No exec check')\n",
    "ax[1].plot(x, y2, label='Exec check')\n",
    "ax[0].grid()\n",
    "ax[1].grid()"
   ]
  },
  {
   "cell_type": "code",
   "execution_count": null,
   "metadata": {},
   "outputs": [],
   "source": [
    "prec = 4\n",
    "m1 = round((y1[1] - y1[0]) / (x[1] - x[0]),prec)\n",
    "b1 = round(y1[0] - m1 * x[0],prec)\n",
    "m2 = round((y2[1] - y2[0]) / (x[1] - x[0]),prec)\n",
    "b2 = round(y2[0] - m2 * x[0],prec)\n",
    "\n",
    "for val in [m1, b1, m2, b2]:\n",
    "    print(f\"{val}\")\n",
    "\n",
    "# Define the linear functions\n",
    "def linear_y1(x):\n",
    "    return round(m1 * x + b1,prec)\n",
    "\n",
    "def linear_y2(x):\n",
    "    return round(m2 * x + b2,prec)\n",
    "\n",
    "# Example usage:\n",
    "for x_val in [20, 30, 40, 50]:\n",
    "    print(f\"For x = {x_val}, y1 = {linear_y1(x_val)}, y2 = {linear_y2(x_val)}\")"
   ]
  },
  {
   "cell_type": "code",
   "execution_count": null,
   "metadata": {},
   "outputs": [],
   "source": [
    "# Define the linear functions\n",
    "def linear_y1(x):\n",
    "    return m1 * x + b1\n",
    "\n",
    "def linear_y2(x):\n",
    "    return m2 * x + b2\n",
    "\n",
    "# Example usage:\n",
    "for x in [20, 30, 40, 50]:\n",
    "    print(f\"For x = {x}, y1 = {linear_y1(x):.2f}, y2 = {linear_y2(x):.2f}\")"
   ]
  },
  {
   "cell_type": "code",
   "execution_count": null,
   "metadata": {},
   "outputs": [],
   "source": [
    "m1 = -0.005\n",
    "b1 = 0.385\n",
    "m2 = 0.002\n",
    "b2 = 0.816"
   ]
  }
 ],
 "metadata": {
  "kernelspec": {
   "display_name": "Python 3",
   "language": "python",
   "name": "python3"
  },
  "language_info": {
   "codemirror_mode": {
    "name": "ipython",
    "version": 3
   },
   "file_extension": ".py",
   "mimetype": "text/x-python",
   "name": "python",
   "nbconvert_exporter": "python",
   "pygments_lexer": "ipython3",
   "version": "3.10.12"
  }
 },
 "nbformat": 4,
 "nbformat_minor": 2
}
